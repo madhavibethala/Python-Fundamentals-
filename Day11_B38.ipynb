{
 "cells": [
  {
   "cell_type": "code",
   "execution_count": null,
   "metadata": {},
   "outputs": [],
   "source": [
    "Introduction to functions in Python\n",
    "\n",
    "Uses : code Reusabilty.\n",
    "\n",
    "    Overview : def is the keyword used for defining the function\n",
    "We have to use small case letters for Naming Functions."
   ]
  },
  {
   "cell_type": "code",
   "execution_count": null,
   "metadata": {},
   "outputs": [],
   "source": [
    "#Req: I want to Create greet functions."
   ]
  },
  {
   "cell_type": "code",
   "execution_count": null,
   "metadata": {},
   "outputs": [],
   "source": [
    "# defining or declaring function"
   ]
  },
  {
   "cell_type": "code",
   "execution_count": 2,
   "metadata": {},
   "outputs": [
    {
     "name": "stdout",
     "output_type": "stream",
     "text": [
      "Hello\n"
     ]
    }
   ],
   "source": [
    "def greet():\n",
    "    \"\"\" creating a great function\"\"\"  \n",
    "    # doc string (\"\"\" \"\"\") for comeenting inside function\n",
    "    print(\"Hello\")\n",
    "greet() # function calling"
   ]
  },
  {
   "cell_type": "code",
   "execution_count": null,
   "metadata": {},
   "outputs": [],
   "source": [
    "# req: i want to create functions for greeting the user"
   ]
  },
  {
   "cell_type": "code",
   "execution_count": 4,
   "metadata": {},
   "outputs": [
    {
     "name": "stdout",
     "output_type": "stream",
     "text": [
      "Hello ,Karthik\n"
     ]
    }
   ],
   "source": [
    "def greetuser(username): # parameter passing ,params\n",
    "    \"\"\"creating a function for greeting the user\"\"\"\n",
    "    print(f\"Hello ,{username.title()}\")\n",
    "greetuser('karthik') # arguments passing  # args"
   ]
  },
  {
   "cell_type": "code",
   "execution_count": 5,
   "metadata": {},
   "outputs": [
    {
     "name": "stdout",
     "output_type": "stream",
     "text": [
      "Hello ,Madhusudhana\n"
     ]
    }
   ],
   "source": [
    "greetuser('madhusudhana')"
   ]
  },
  {
   "cell_type": "code",
   "execution_count": null,
   "metadata": {},
   "outputs": [],
   "source": [
    " Params: while defining a function in the code\n",
    " args:While calling a function"
   ]
  },
  {
   "cell_type": "code",
   "execution_count": null,
   "metadata": {},
   "outputs": [],
   "source": [
    "Types of arguments"
   ]
  },
  {
   "cell_type": "code",
   "execution_count": null,
   "metadata": {},
   "outputs": [],
   "source": [
    "Positional arguments\n",
    "Keyword arguments\n",
    "Default arguments\n",
    "arbitory arguments/spetive args(kw args)"
   ]
  },
  {
   "cell_type": "code",
   "execution_count": null,
   "metadata": {},
   "outputs": [],
   "source": [
    "# req: I want to creat a function callled as describe pet which take two params as  1. amimal   type 2 . pet name"
   ]
  },
  {
   "cell_type": "code",
   "execution_count": 7,
   "metadata": {},
   "outputs": [
    {
     "name": "stdout",
     "output_type": "stream",
     "text": [
      "I have a dog\n",
      " My dog's name is Rex\n"
     ]
    }
   ],
   "source": [
    "def describe_pet(animal_type,pet_name):\n",
    "    \"\"\"creating a fuction for descibing the pet\"\"\"\n",
    "    print(f\"I have a {animal_type}\")\n",
    "    print(f\" My {animal_type}'s name is {pet_name.title()}\")\n",
    "describe_pet('dog',\"rex\") # positional args"
   ]
  },
  {
   "cell_type": "code",
   "execution_count": 8,
   "metadata": {},
   "outputs": [
    {
     "name": "stdout",
     "output_type": "stream",
     "text": [
      "I have a snowbell\n",
      " My snowbell's name is Cat\n"
     ]
    }
   ],
   "source": [
    "describe_pet('snowbell','cat')"
   ]
  },
  {
   "cell_type": "code",
   "execution_count": null,
   "metadata": {},
   "outputs": [],
   "source": [
    "does not make sense , pass arguments as defined in method as it it"
   ]
  }
 ],
 "metadata": {
  "kernelspec": {
   "display_name": "Python 3",
   "language": "python",
   "name": "python3"
  },
  "language_info": {
   "codemirror_mode": {
    "name": "ipython",
    "version": 3
   },
   "file_extension": ".py",
   "mimetype": "text/x-python",
   "name": "python",
   "nbconvert_exporter": "python",
   "pygments_lexer": "ipython3",
   "version": "3.8.5"
  }
 },
 "nbformat": 4,
 "nbformat_minor": 4
}
