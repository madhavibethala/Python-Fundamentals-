{
 "cells": [
  {
   "cell_type": "code",
   "execution_count": 1,
   "metadata": {},
   "outputs": [],
   "source": [
    "students=['venila','yusuf','karthik','john','kumar','abhishek','latha','madhavi',]"
   ]
  },
  {
   "cell_type": "code",
   "execution_count": 2,
   "metadata": {},
   "outputs": [
    {
     "name": "stdout",
     "output_type": "stream",
     "text": [
      "['venila', 'yusuf', 'karthik', 'john', 'kumar', 'abhishek', 'latha', 'madhavi']\n"
     ]
    }
   ],
   "source": [
    "print(students)"
   ]
  },
  {
   "cell_type": "code",
   "execution_count": 8,
   "metadata": {},
   "outputs": [
    {
     "name": "stdout",
     "output_type": "stream",
     "text": [
      "keep up the good work,Venila\n"
     ]
    }
   ],
   "source": [
    "print(f\"keep up the good work,{students[0].title()}\")"
   ]
  },
  {
   "cell_type": "code",
   "execution_count": 9,
   "metadata": {},
   "outputs": [
    {
     "name": "stdout",
     "output_type": "stream",
     "text": [
      "keep the good work,Yusuf\n"
     ]
    }
   ],
   "source": [
    "print(f\"keep the good work,{students[1].title()}\")"
   ]
  },
  {
   "cell_type": "code",
   "execution_count": 13,
   "metadata": {},
   "outputs": [
    {
     "name": "stdout",
     "output_type": "stream",
     "text": [
      "keep up the good work,Venila\n",
      "keep up the good work,Yusuf\n",
      "keep up the good work,Karthik\n",
      "keep up the good work,John\n",
      "keep up the good work,Kumar\n",
      "keep up the good work,Abhishek\n",
      "keep up the good work,Latha\n",
      "keep up the good work,Madhavi\n"
     ]
    }
   ],
   "source": [
    "for x in students:\n",
    "    print(f\"keep up the good work,{x.title()}\")"
   ]
  },
  {
   "cell_type": "code",
   "execution_count": 21,
   "metadata": {},
   "outputs": [
    {
     "name": "stdout",
     "output_type": "stream",
     "text": [
      "keep up good work,Venila\n",
      "send ur practice files,Venila\n",
      "keep up good work,Yusuf\n",
      "send ur practice files,Yusuf\n",
      "keep up good work,Karthik\n",
      "send ur practice files,Karthik\n",
      "keep up good work,John\n",
      "send ur practice files,John\n",
      "keep up good work,Kumar\n",
      "send ur practice files,Kumar\n",
      "keep up good work,Abhishek\n",
      "send ur practice files,Abhishek\n",
      "keep up good work,Latha\n",
      "send ur practice files,Latha\n",
      "keep up good work,Madhavi\n",
      "send ur practice files,Madhavi\n"
     ]
    }
   ],
   "source": [
    "for a in students:\n",
    "    print(f\"keep up good work,{a.title()}\")\n",
    "    print(f\"send ur practice files,{a.title()}\")"
   ]
  },
  {
   "cell_type": "code",
   "execution_count": 22,
   "metadata": {},
   "outputs": [
    {
     "name": "stdout",
     "output_type": "stream",
     "text": [
      "keep up good work,Venila.\n",
      "\n",
      "send ur practice files,Venila.\n",
      "\n",
      "keep up good work,Yusuf.\n",
      "\n",
      "send ur practice files,Yusuf.\n",
      "\n",
      "keep up good work,Karthik.\n",
      "\n",
      "send ur practice files,Karthik.\n",
      "\n",
      "keep up good work,John.\n",
      "\n",
      "send ur practice files,John.\n",
      "\n",
      "keep up good work,Kumar.\n",
      "\n",
      "send ur practice files,Kumar.\n",
      "\n",
      "keep up good work,Abhishek.\n",
      "\n",
      "send ur practice files,Abhishek.\n",
      "\n",
      "keep up good work,Latha.\n",
      "\n",
      "send ur practice files,Latha.\n",
      "\n",
      "keep up good work,Madhavi.\n",
      "\n",
      "send ur practice files,Madhavi.\n",
      "\n"
     ]
    }
   ],
   "source": [
    "for a in students:\n",
    "    print(f\"keep up good work,{a.title()}.\\n\")\n",
    "    print(f\"send ur practice files,{a.title()}.\\n\")"
   ]
  },
  {
   "cell_type": "code",
   "execution_count": 24,
   "metadata": {},
   "outputs": [
    {
     "name": "stdout",
     "output_type": "stream",
     "text": [
      "keep up good work,Venila.\n",
      "\n",
      "send ur practice files,Venila.\n",
      "\n",
      "keep up good work,Yusuf.\n",
      "\n",
      "send ur practice files,Yusuf.\n",
      "\n",
      "keep up good work,Karthik.\n",
      "\n",
      "send ur practice files,Karthik.\n",
      "\n",
      "keep up good work,John.\n",
      "\n",
      "send ur practice files,John.\n",
      "\n",
      "keep up good work,Kumar.\n",
      "\n",
      "send ur practice files,Kumar.\n",
      "\n",
      "keep up good work,Abhishek.\n",
      "\n",
      "send ur practice files,Abhishek.\n",
      "\n",
      "keep up good work,Latha.\n",
      "\n",
      "send ur practice files,Latha.\n",
      "\n",
      "keep up good work,Madhavi.\n",
      "\n",
      "send ur practice files,Madhavi.\n",
      "\n",
      "thank u all\n"
     ]
    }
   ],
   "source": [
    "for a in students:\n",
    "    print(f\"keep up good work,{a.title()}.\\n\")\n",
    "    print(f\"send ur practice files,{a.title()}.\\n\")\n",
    "print(\"thank u all\")"
   ]
  },
  {
   "cell_type": "code",
   "execution_count": null,
   "metadata": {},
   "outputs": [],
   "source": []
  }
 ],
 "metadata": {
  "kernelspec": {
   "display_name": "Python 3",
   "language": "python",
   "name": "python3"
  },
  "language_info": {
   "codemirror_mode": {
    "name": "ipython",
    "version": 3
   },
   "file_extension": ".py",
   "mimetype": "text/x-python",
   "name": "python",
   "nbconvert_exporter": "python",
   "pygments_lexer": "ipython3",
   "version": "3.8.5"
  }
 },
 "nbformat": 4,
 "nbformat_minor": 4
}
