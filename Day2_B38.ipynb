{
 "cells": [
  {
   "cell_type": "code",
   "execution_count": null,
   "metadata": {},
   "outputs": [],
   "source": [
    "# Introduction to Data Types\n",
    "1. String str\n",
    "2. Number  ---> Integer --> int  and Float --- > float\n",
    "3. List  --> list\n",
    "4. Tuple --- > tuple\n",
    "5. Dictionay --> dict\n",
    "\n"
   ]
  },
  {
   "cell_type": "code",
   "execution_count": null,
   "metadata": {},
   "outputs": [],
   "source": [
    "# Classification of Data Types\n",
    "\n",
    "1. Mutable Datatype  ------>which we can edit/alter after we have declared  --> flexible\n",
    "2. Immutable Datatype--> They cannot edit/alter after we have declared ---> fixed"
   ]
  },
  {
   "cell_type": "code",
   "execution_count": null,
   "metadata": {},
   "outputs": [],
   "source": [
    "# Introduction to String data Type\n",
    "String is  series of characters  enclosed in quotes , immutable datatype\n",
    "\n",
    "# Declarations:\n",
    "1. Single quotes  ex : name='Priya'\n",
    "2. Double quotes  Ex: name=\"Ramana\"\n",
    "3. triple quotes  Ex: name=\"\"\"\"Kanaka\"\"\" \n",
    "\n",
    "    We can use any one of the declarations as we like."
   ]
  },
  {
   "cell_type": "code",
   "execution_count": 3,
   "metadata": {},
   "outputs": [
    {
     "data": {
      "text/plain": [
       "str"
      ]
     },
     "execution_count": 3,
     "metadata": {},
     "output_type": "execute_result"
    }
   ],
   "source": [
    "# Introduction to String Methods \n",
    "\n",
    "# type method  : used for knowing the data type of a variable that we declared\n",
    "name='Raja'\n",
    "    \n",
    "type(name)"
   ]
  },
  {
   "cell_type": "code",
   "execution_count": null,
   "metadata": {},
   "outputs": [],
   "source": []
  }
 ],
 "metadata": {
  "kernelspec": {
   "display_name": "Python 3",
   "language": "python",
   "name": "python3"
  },
  "language_info": {
   "codemirror_mode": {
    "name": "ipython",
    "version": 3
   },
   "file_extension": ".py",
   "mimetype": "text/x-python",
   "name": "python",
   "nbconvert_exporter": "python",
   "pygments_lexer": "ipython3",
   "version": "3.8.5"
  }
 },
 "nbformat": 4,
 "nbformat_minor": 4
}
